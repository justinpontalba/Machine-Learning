{
 "cells": [
  {
   "cell_type": "markdown",
   "metadata": {},
   "source": [
    "# Natural Langauge Processing Introductory Application\n",
    "Advisement:\n",
    "Please note that this code was derived from https://towardsdatascience.com/gentle-start-to-natural-language-processing-using-python-6e46c07addf3\n",
    ". The implementation of this code is for learning purposes only.\n",
    "All rights are accredited to the original author. In this jupyter notebook, word frequencies are analyzed across three news websites in Canada. Specifically, web pages concerning COVID-19 are analyzed. "
   ]
  },
  {
   "cell_type": "code",
   "execution_count": 4,
   "metadata": {},
   "outputs": [],
   "source": [
    "# Associated librariers\n",
    "import nltk\n",
    "import urllib.request\n",
    "from bs4 import BeautifulSoup\n",
    "from nltk.corpus import stopwords"
   ]
  },
  {
   "cell_type": "code",
   "execution_count": 5,
   "metadata": {},
   "outputs": [],
   "source": [
    "# List of news websites\n",
    "websites = [\"https://www.cbc.ca/news/canada/toronto/contracting-covid19-ontario-1.5548087\",\n",
    "            \"https://www.theglobeandmail.com/canada/article-manitoba-to-ease-some-covid-19-restrictions-starting-monday/\",\n",
    "            \"https://www.ctvnews.ca/health/coronavirus/\"]"
   ]
  },
  {
   "cell_type": "code",
   "execution_count": 7,
   "metadata": {},
   "outputs": [],
   "source": [
    "# pre-allocate list to store tokens\n",
    "all_tokens = []\n",
    "for site in websites:\n",
    "\n",
    "    response = urllib.request.urlopen(site)\n",
    "    html = response.read()\n",
    "\n",
    "    #  pulling data out of HTML and XML files using Beautiful Soup\n",
    "    soup = BeautifulSoup(html,\"lxml\")\n",
    "    text = soup.get_text(strip = True)\n",
    "    # print(text)\n",
    "\n",
    "    # tokenize text\n",
    "    tokens = [t for t in text.split()]\n",
    "    # print(tokens)\n",
    "\n",
    "    # Count Word Frequency\n",
    "    clean_tokens = []\n",
    "    \n",
    "    # Clean tokens to remove symbols that may affect key words\n",
    "    bad_chars = [';', ':', '!', \"*\",\"!\",\"@\", \"#\", \"$\", \"%\", \"^\",\"+\",\"/\", \"|\", \"&\" ] \n",
    "    for item in tokens[:]:\n",
    "        if item in bad_chars:\n",
    "            continue\n",
    "        else:\n",
    "            clean_tokens.append(item)\n",
    "\n",
    "\n",
    "    sr= stopwords.words('english')\n",
    "    # clean_tokens = tokens[:]\n",
    "    for token in tokens:\n",
    "        if token in stopwords.words('english'):\n",
    "            clean_tokens.remove(token)\n",
    "    \n",
    "    all_tokens.extend(clean_tokens)"
   ]
  },
  {
   "cell_type": "code",
   "execution_count": 9,
   "metadata": {},
   "outputs": [
    {
     "data": {
      "image/png": "[encoded data removed]",
      "text/plain": [
       "<Figure size 432x288 with 1 Axes>"
      ]
     },
     "metadata": {
      "needs_background": "light"
     },
     "output_type": "display_data"
    },
    {
     "data": {
      "text/plain": [
       "<matplotlib.axes._subplots.AxesSubplot at 0x2b6cb121c18>"
      ]
     },
     "execution_count": 9,
     "metadata": {},
     "output_type": "execute_result"
    }
   ],
   "source": [
    "# Display Results\n",
    "freq = nltk.FreqDist(all_tokens)\n",
    "freq.plot(20, cumulative=False)"
   ]
  },
  {
   "cell_type": "code",
   "execution_count": null,
   "metadata": {},
   "outputs": [],
   "source": []
  }
 ],
 "metadata": {
  "kernelspec": {
   "display_name": "Python 3",
   "language": "python",
   "name": "python3"
  },
  "language_info": {
   "codemirror_mode": {
    "name": "ipython",
    "version": 3
   },
   "file_extension": ".py",
   "mimetype": "text/x-python",
   "name": "python",
   "nbconvert_exporter": "python",
   "pygments_lexer": "ipython3",
   "version": "3.6.10"
  }
 },
 "nbformat": 4,
 "nbformat_minor": 4
}
